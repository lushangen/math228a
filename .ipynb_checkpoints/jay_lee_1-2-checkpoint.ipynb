{
 "cells": [
  {
   "cell_type": "markdown",
   "metadata": {},
   "source": [
    "## Code submission\n",
    "\n",
    "If you would like to use Jupyter (perhaps the easiest way), just submit the notebook file to bCourses. Name it lastname_firstname_(Homework#).ipynb. For example, obama_barack_1.ipynb. This applies to the case if you **only** have a notebook file.\n",
    "\n",
    "If you use MATLAB or Julia/Python (not the notebook), **or** if you have multiple files, name your programs as p(Homework#)_(Problem#).m. For instance, for homework 1, problem 2, name it as p1_2.m (or p1_2.jl,p1_2.py). Then **zip everything** into a single file lastname_firstname_(Homework#).zip, and submit the zip file to bCourses. For example, obama_barack_1.zip.\n",
    "\n",
    "For proof-related problems, type your solution using **LaTeX (no other format is accepted)**. You do not need to write down every step of the derivation, but make sure the logic is clear and understandable.\n",
    "\n",
    "For implementation based problems, the problem description may not include all the information for the answer to be uniquely defined. For instance, your answer might depend on the choice of the mesh size. This is OK."
   ]
  },
  {
   "cell_type": "markdown",
   "metadata": {},
   "source": [
    "## Problem 1\n",
    "\n",
    "Consider $u'(t)=f(u(t)),u(0)=u_0$, and $f:\\mathbb{R}^{d}\\to \\mathbb{R}$ \n",
    "is Lipschitz continuous with a\n",
    "Lipschitz constant $L$. Let $\\max \\Vert u''(t)\\Vert$ be bounded by a constant $M$ for $0\\le t\\le T$. Prove that the backward Euler method converges as the step size $h\\to 0$."
   ]
  },
  {
   "cell_type": "markdown",
   "metadata": {},
   "source": [
    "The backward Euler Method is $u_{n+1} = u_n + hf(u_{n+1}, t_{n+1})$. \n",
    "\n",
    "Define the local truncation error, or LTE, as $\\tau_n$, where $u(t_{n+1}) = u(t_n) + hf(u(t_{n+1}), t_{n+1}) + \\tau_n$.\n",
    "\n",
    "We will now let N $\\in\\mathbb{N}$ and h $\\in\\mathbb{R}$ such that T = N * h. \n",
    "\n",
    "Define $e_n = u(t_n) - u_n$ $\\in$ $\\mathbb{R}$$^d$ where $u(t_n)$ is the actual solution and $u_n$ is the numerical solution. \n",
    "\n",
    "Then $e_{n+1} - e_n = u(t_{n+1}) - u_{n+1} - u(t_n) + u_n$. Plugging in $u(t_{n+1}) = u(t_n) + hf(u(t_{n+1}), t_{n+1}) + \\tau_n$, we have $e_{n+1} - e_n = u(t_n) + hf(u(t_{n+1}), t_{n+1}) - u_{n+1} - u(t_n) + u_n + \\tau_n$. Thus, $e_{n+1} = e_n + hf(u(t_{n+1}), t_{n+1}) - u_{n+1} + u_n + \\tau_n$. \n",
    "\n",
    "By our scheme, this is $e_{n+1} = e_n + hf(u(t_{n+1}), t_{n+1}) - hf(u_{n+1}, t_{n+1}) + \\tau_n$\n",
    "\n",
    "Taking the norm for each side, $||e_{n+1}|| = ||e_n + hf(u(t_{n+1}), t_{n+1}) - hf(u_{n+1}, t_{n+1}) + \\tau_n||$, and by the triangle inequality, $||e_{n+1}|| \\leq ||e_n|| + ||hf(u(t_{n+1}), t_{n+1}) - hf(u_{n+1}, t_{n+1})|| + ||\\tau_n||$.\n",
    "\n",
    "Since f is Lipschitz continuous with constant L, $||e_n|| + ||hf(u(t_{n+1}), t_{n+1}) - hf(u_{n+1}, t_{n+1})|| + ||\\tau_n|| \\leq ||e_n|| + hL||u(t_{n+1}) - u_{n+1}|| + ||\\tau_n|| = ||e_n|| + hL||e_{n+1}|| + ||\\tau_n||$. \n",
    "\n",
    "Let $\\tau_{max} = sup_{1\\leq n\\leq N} ||\\tau_n||$. Then $||\\tau_n|| \\leq \\tau_{max}$ for all n.\n",
    "\n",
    "Thus, $||e_{n+1}|| \\leq ||e_n|| + hL||e_{n+1}|| + \\tau_{max}$ $\\to$ $(1 - hL)||e_{n+1}|| \\leq ||e_n|| + \\tau_{max}$\n",
    "\n",
    "Let us assume that hL < 1, which is acceptable since h will $\\to$ 0.\n",
    "\n",
    "Then, $||e_{n+1}|| \\leq \\frac{||e_n||}{1 - hL} + \\frac{\\tau_{max}}{1 - hL}$ \n",
    "\n",
    "By induction, $||e_{n+1}|| \\leq \\frac{||e_0||}{(1 - hL)^{n + 1}} + \\tau_{max}( (1-hL)^{-(n + 1)} + (1 - hL)^{-n} + ... + 1) = \\frac{||e_0||}{(1 - hL)^{n + 1}} + \\tau_{max} (\\frac{(1 - hL)^{-(n + 2)} - 1}{(1-hL)^{-1} - 1})$\n",
    "\n",
    "Note $\\frac{1}{1 - hL} = 1 + \\frac{hL}{1 - hL} \\leq e^{\\frac{hl}{1-hL}}$.\n",
    "\n",
    "$||e_{n+1}|| \\leq ||e_0||e^{\\frac{(n+1)hL}{1-hL}} + \\tau_{max} (\\frac{(1 - hL)^{-(n + 2)} - 1}{(1-hL)^{-1} - 1})$\n",
    "\n",
    "Note that $(\\frac{(1 - hL)^{-(n + 2)} - 1}{(1-hL)^{-1} - 1}) = \\frac{(1-hL)^{-(n+1)} - (1 - hL)}{hL} \\leq \\frac{(1-hL)^{-(n+1)}}{hL}$ since 1 - hL > 0. Thus $(\\frac{(1 - hL)^{-(n + 2)} - 1}{(1-hL)^{-1} - 1}) \\leq \\frac{(1 + \\frac{hL}{1 - hL})^{n+1}}{hL} \\leq \\frac{e^{\\frac{(n+1)hL}{1-hL}}}{hL}$\n",
    "\n",
    "Thus $||e_{n+1}|| \\leq ||e_0||e^{\\frac{(n+1)hL}{1-hL}} + \\tau_{max} (\\frac{e^{\\frac{(n+1)hL}{1-hL}}}{hL})$\n",
    "\n",
    "Now we will give an estimate for $\\tau_{max}$.\n",
    "\n",
    "We know that $\\tau_n = u(t_{n+1}) - u(t_n) - hf(u(t_{n+1}), t_{n+1}) = \\int_{t_n}^{t_{n+1}} (t_n - s)u''(s)ds$ by integration by parts. \n",
    "\n",
    "By triangle inequality $||\\tau_n|| \\leq \\int_{t_n}^{t_{n+1}} ||(t_n - s)|| * ||u''(s)||ds$. Since $t_n \\leq s \\leq t_{n+1}$, $||t_n - s|| = s - t_n $ $\\to$ $||\\tau_n|| \\leq \\int_{t_n}^{t_{n+1}} (s - t_n) * ||u''(s)||ds$. \n",
    "\n",
    "Since $max ||u'(t)|| \\leq M$, we have $||\\tau_n|| \\leq M\\int_{t_n}^{t_{n+1}} (s - t_n)ds = \\frac{Mh^2}{2}$. This means that as $h \\to 0$, ||$\\tau_n $|| $\\to 0$, proving we have consistency.\n",
    "\n",
    "Thus, $||e_{n+1}|| \\leq ||e_0||e^{\\frac{(n+1)hL}{1-hL}} + \\frac{Mh^2}{2}(\\frac{e^{\\frac{(n+1)hL}{1-hL}}}{hL})$.\n",
    "\n",
    "Since $u(0) = u_0$, we have $e_0 = 0 \\to ||e_{n+1}|| \\leq \\frac{Mh^2}{2}(\\frac{e^{\\frac{(n+1)hL}{1-hL}}}{hL}) = \\frac{Mh}{2}(\\frac{e^{\\frac{(n+1)hL}{1-hL}}}{L})$\n",
    "\n",
    "As h $\\to$ 0, the right side of the inequality also converges to 0 as $e^{\\frac{(n+1)hL}{1-hL}} \\to 1$ and $\\frac{Mh}{L} \\to 0$. Thus, $||e_{n+1}|| \\to 0$ as h $\\to 0$, proving backwards Euler Method has both consistency and stability. Therefore it must be convergent.\n"
   ]
  },
  {
   "cell_type": "markdown",
   "metadata": {},
   "source": [
    "## Problem 2\n",
    "\n",
    "Consider the initial value problem\n",
    "$$\n",
    "\\begin{split}\n",
    "u'_{1} &= u_{1},\\\\\n",
    "u'_{2} &= u_{1} - u_{2},\\\\\n",
    "\\end{split}\n",
    "$$\n",
    "with initial condition $(u_{1}(0),u_{2}(0))=(1,1)$. \n",
    "\n",
    "1. Find a way to solve the problem above analytically, and write down the answer of u(T=2.0).\n",
    "\n",
    "2. Solve the problem numerically using the trapezoidal rule. Verify that the solution agrees with the exact solution at time $T=2.0$. Use a number of step sizes $h=2^{-i},i=5,\\ldots,10.$ Plot the error $e=\\Vert u(1)-u^*(1)\\Vert_2$ v.s. step size $h$ in a loglog plot, and estimate the convergence rate for each scheme.\n",
    "\n",
    "**Note**: the routine for computing the error, plotting and computing the slope is provided. "
   ]
  },
  {
   "cell_type": "markdown",
   "metadata": {},
   "source": [
    "Since $u_1' = u_1$, it must be that $u_1(t) = Ce^t$ for some constant C. Since $u_1(0) = 1$, it follows $u_1(t) = e^t$. \n",
    "\n",
    "Now we have $u_2' = e^t - u_2$, and by using the integrating factor method, we have $u_2(t) = e^{-t} \\int e^t * e^t dt = e^{-t} * (\\frac{e^{2t}}{2} + C) = \\frac{e^t}{2} + Ce^{-t}$. Since $u_2(0) = 1$, we have $1 = \\frac{1}{2} + C \\to C = \\frac{1}{2}$. Thus $u_2(t) = \\frac{e^t}{2} + \\frac{e^{-t}}{2}$."
   ]
  },
  {
   "cell_type": "code",
   "execution_count": 2,
   "metadata": {},
   "outputs": [],
   "source": [
    "using LinearAlgebra\n",
    "using PyPlot"
   ]
  },
  {
   "cell_type": "code",
   "execution_count": 3,
   "metadata": {},
   "outputs": [
    {
     "name": "stdout",
     "output_type": "stream",
     "text": [
      "Slope for Trapezoid = 1.9913162847438812\n"
     ]
    },
    {
     "data": {
      "image/png": "[encoded data removed]",
      "text/plain": [
       "Figure(PyObject <Figure size 400x400 with 1 Axes>)"
      ]
     },
     "metadata": {},
     "output_type": "display_data"
    },
    {
     "name": "stdout",
     "output_type": "stream",
     "text": [
      "[7.38905609893065, 3.7621956910836314]\n"
     ]
    }
   ],
   "source": [
    "function func(u)\n",
    "    return[u[1], u[1] - u[2]]\n",
    "end\n",
    "\n",
    "function forwardEuler(N, T, u0)\n",
    "    h = T/ N\n",
    "    for i = 1:N\n",
    "        u0 = u0 .+ h .* func(u0)\n",
    "    end\n",
    "    return u0\n",
    "end\n",
    "\n",
    "function Trapezoid(N,T,u0)\n",
    "    # Fill code here\n",
    "    h = T/N\n",
    "    for i = 1:N\n",
    "        u0 = u0 .+ h * (0.5 .* func(u0) .+ 0.5 .* func(forwardEuler(100000, h, u0)))\n",
    "    end\n",
    "    return u0\n",
    "end\n",
    "\n",
    "u0 = [1.0,1.0]\n",
    "T = 2.0\n",
    "\n",
    "# You need to compute uexact at T=2.0\n",
    "uexact = [exp(2), 0.5 * (exp(2) + exp(-2))]\n",
    "\n",
    "# Plotting routine provided below\n",
    "NList = 2 .^(5:10)\n",
    "errTrapeList = zeros(size(NList))\n",
    "for i = 1 : length(NList)\n",
    "    N = NList[i]\n",
    "    utrape = Trapezoid(N,T,u0)\n",
    "    errTrapeList[i] = norm(utrape-uexact)\n",
    "end\n",
    "\n",
    "figure(1,figsize=(4,4))\n",
    "loglog(T./NList, errTrapeList, \"r-d\", label=\"Trapezoid\")\n",
    "xlabel(L\"h\")\n",
    "ylabel(L\"||u-u^*||_2\")\n",
    "legend()\n",
    "\n",
    "slopeTrape = -(log(errTrapeList[end])-log(errTrapeList[1])) / \n",
    "(log(NList[end]) - log(NList[1]))\n",
    "\n",
    "println(\"Slope for Trapezoid = \", slopeTrape )\n",
    "println(uexact)println(Trapezoid(NList[end],T,u0))"
   ]
  },
  {
   "cell_type": "markdown",
   "metadata": {},
   "source": [
    "## Problem 3\n",
    "\n",
    "Consider a simple pendulum of length $l$, forming an angle $\\theta(t)$ with the\n",
    "vertical axis. The equation of motion for the pendulum is given by\n",
    "\n",
    "$$\\theta''(t)+\\frac{g}{l} \\sin(\\theta(t))=0,$$\n",
    "\n",
    "where $g$ is the gravitational constant, with given initial conditions\n",
    "\n",
    "$$\\theta(0)=\\theta_0,\\quad \\theta'(0)=\\omega_0.$$\n",
    "\n",
    "1. Rewrite the equation as a system of first order equations in $u(t)=(\\theta(t),\\omega(t))$. Fill the `func` function below. \n",
    "\n",
    "2. Write a forward Euler method. Use a sufficiently small time step, and plot the solution of $\\theta(t)$ with $g=l=1$ and initial condition $(\\theta(0),\\omega(0))=(2.5,0.0)$ till $T=25$. Since no exact solution is available, measure the convergence rate by means of the solution at T=25 obtained from three time steps h, h/2, and h/4."
   ]
  },
  {
   "cell_type": "code",
   "execution_count": 28,
   "metadata": {},
   "outputs": [
    {
     "data": {
      "image/png": "[encoded data removed]",
      "text/plain": [
       "Figure(PyObject <Figure size 400x400 with 1 Axes>)"
      ]
     },
     "metadata": {},
     "output_type": "display_data"
    }
   ],
   "source": [
    "function func(u,g,l)\n",
    "    # fill here for evaluating f(u)\n",
    "    return [u[2], -g/l * sin(u[1])]\n",
    "end\n",
    "\n",
    "function ForwardEulerFull(N,T,u0,g,l)\n",
    "    # Fill code here. \n",
    "    # The output should be the full history of the solution\n",
    "    # i.e. the output u should be of size 2×(N+1)\n",
    "    # This is of course memory intensive and is not the \n",
    "    # commonly used approach\n",
    "    u = zeros(2,N+1)\n",
    "    h = T/N\n",
    "    u[:, 1] = u0\n",
    "    for i = 1:N\n",
    "        u[:, i + 1] = u[:, i] + h * func(u[:, i], g, l)\n",
    "    end\n",
    "    return u\n",
    "end\n",
    "\n",
    "# This should plot out the solution\n",
    "g=1.0\n",
    "l=1.0\n",
    "T=25.0\n",
    "N=10000\n",
    "u0=[2.5,0.0]\n",
    "\n",
    "uEulerFull = ForwardEulerFull(N,T,u0,g,l)\n",
    "tList = collect(0:N)*(T/N)\n",
    "\n",
    "using PyPlot\n",
    "figure(1,figsize=(4,4))\n",
    "plot(tList,vec(uEulerFull[1,:]),\"b-\")\n",
    "xlabel(L\"t\")\n",
    "ylabel(L\"\\theta(t)\");"
   ]
  },
  {
   "cell_type": "code",
   "execution_count": 4,
   "metadata": {},
   "outputs": [
    {
     "name": "stdout",
     "output_type": "stream",
     "text": [
      "slope = 1.2250638850248023"
     ]
    }
   ],
   "source": [
    "function ForwardEuler(N,T,u0,g,l)\n",
    "    # Fill code here. \n",
    "    # The output contains only the final solution u(T)\n",
    "    u = u0\n",
    "    h = T/N\n",
    "    for i = 1:N\n",
    "        u = u + h * func(u, g, l)\n",
    "    end\n",
    "    return u\n",
    "end\n",
    "\n",
    "\n",
    "# Estimate the order of convergence\n",
    "\n",
    "N = 10000\n",
    "u1 = ForwardEuler(N, T, u0, g, l)\n",
    "u2 = ForwardEuler(2N, T, u0, g, l)\n",
    "u4 = ForwardEuler(4N, T, u0, g, l)\n",
    "print(\"slope = \", log2(norm(u1 - u2) / norm(u2 - u4)))"
   ]
  },
  {
   "cell_type": "markdown",
   "metadata": {},
   "source": [
    "## Problem 4\n",
    "\n",
    "1. Repeat Problem 3.2 using the trapezoidal rule. Modify your implementation in Problem 2 if needed.\n",
    "\n",
    "2. Repeat Problem 3.2 using the Adams-Bashforth 3 (AB3) scheme. Obtain the first two steps using forward Euler and trapezoidal rule, respectively. Observe the difference in terms of the convergence rate.\n",
    "\n"
   ]
  },
  {
   "cell_type": "code",
   "execution_count": 8,
   "metadata": {},
   "outputs": [
    {
     "data": {
      "image/png": "[encoded data removed]",
      "text/plain": [
       "Figure(PyObject <Figure size 400x400 with 1 Axes>)"
      ]
     },
     "metadata": {},
     "output_type": "display_data"
    }
   ],
   "source": [
    "# Need to solve the nonlinear equation in trapezoidal rule.\n",
    "\n",
    "function fixedTrapezoid(N, T, un, g, l)\n",
    "    h = T/N\n",
    "    err = 1\n",
    "    fn = func(un, g, l)\n",
    "    uold = un\n",
    "    unew = zeros(2)\n",
    "    while err > 10^-20\n",
    "        unew = un + h/2 * (fn + func(uold, g, l))\n",
    "        err = norm(unew - uold)\n",
    "        uold = unew\n",
    "    end\n",
    "    return unew\n",
    "end\n",
    "\n",
    "function Trapezoid(N, T, u0, g, l)\n",
    "    # Fill code here. \n",
    "    # The output contains only the final solution u(T)\n",
    "    h = T/N\n",
    "    u = u0\n",
    "    for i = 1:N\n",
    "        u = fixedTrapezoid(N, T, u, g, l)\n",
    "    end\n",
    "    return u\n",
    "end\n",
    "\n",
    "function TrapezoidFull(N,T,u0,g,l)\n",
    "    h = T/N\n",
    "    u = zeros(2, N + 1)\n",
    "    u[:, 1] = u0\n",
    "    for i = 1:N\n",
    "        u[:, i + 1] = fixedTrapezoid(N, T, u[:, i], g, l)\n",
    "    end\n",
    "    return u\n",
    "end\n",
    "\n",
    "\n",
    "g=1.0\n",
    "l=1.0\n",
    "T=25.0\n",
    "\n",
    "u0=[2.5,0.0]\n",
    "\n",
    "# This should plot out the solution\n",
    "g=1.0\n",
    "l=1.0\n",
    "T=25.0\n",
    "N=10000\n",
    "u0=[2.5,0.0]\n",
    "\n",
    "uTrapFull = TrapezoidFull(N,T,u0,g,l)\n",
    "tList = collect(0:N)*(T/N)\n",
    "\n",
    "using PyPlot\n",
    "figure(1,figsize=(4,4))\n",
    "plot(tList,vec(uTrapFull[1,:]),\"b-\")\n",
    "xlabel(L\"t\")\n",
    "ylabel(L\"\\theta(t)\");"
   ]
  },
  {
   "cell_type": "code",
   "execution_count": 9,
   "metadata": {},
   "outputs": [
    {
     "name": "stdout",
     "output_type": "stream",
     "text": [
      "slope = 2.000002100577141"
     ]
    }
   ],
   "source": [
    "# Estimate the order of convergence\n",
    "N = 10000\n",
    "u1 = Trapezoid(N, T, u0, g, l)\n",
    "u2 = Trapezoid(2N, T, u0, g, l)\n",
    "u4 = Trapezoid(4N, T, u0, g, l)\n",
    "print(\"slope = \", log2(norm(u1 - u2) / norm(u2 - u4)))"
   ]
  },
  {
   "cell_type": "code",
   "execution_count": 30,
   "metadata": {},
   "outputs": [
    {
     "data": {
      "image/png": "[encoded data removed]",
      "text/plain": [
       "Figure(PyObject <Figure size 400x400 with 1 Axes>)"
      ]
     },
     "metadata": {},
     "output_type": "display_data"
    }
   ],
   "source": [
    "# Need some method to compute u1,u2\n",
    "\n",
    "function AB3Full(N,T,u0,u1,u2,g,l)\n",
    "    h = T/N\n",
    "    u = zeros(2, N + 1)\n",
    "    u[:, 1] = copy(u0)\n",
    "    u[:, 2] = copy(u1)\n",
    "    u[:, 3] = copy(u2)\n",
    "    for i = 3:N\n",
    "        u[:, i + 1] = u[:, i] + h/12 * (23 * func(u[:, i], g, l) - 16 * func(u[:, i - 1], g,l) + 5 * func(u[:, i - 2], g, l))\n",
    "    end\n",
    "    return u\n",
    "end\n",
    "\n",
    "function AB3(N, T, u0, u1, u2, g, l)\n",
    "    # Fill code here. \n",
    "    # The output contains only the final solution u(T)\n",
    "    h = T/N\n",
    "    u = u0\n",
    "    for i = 3:N\n",
    "        u = u2 + h/12 * (23 * func(u2, g, l) - 16 * func(u1, g,l) + 5 * func(u0, g, l))\n",
    "        u2, u1, u0, = u, u2, u1\n",
    "    end\n",
    "    return u\n",
    "end\n",
    "\n",
    "# This should plot out the solution\n",
    "g=1.0\n",
    "l=1.0\n",
    "T=25.0\n",
    "N=10000\n",
    "u0=[2.5,0.0]\n",
    "u_1 = ForwardEuler(1, T/N, u0, g, l)\n",
    "u_2 = Trapezoid(1, T/N, u_1, g, l)\n",
    "uAB3Full = AB3Full(N,T,u0, u_1, u_2, g,l)\n",
    "tList = collect(0:N)*(T/N)\n",
    "\n",
    "using PyPlot\n",
    "figure(1,figsize=(4,4))\n",
    "plot(tList,vec(uAB3Full[1,:]),\"b-\")\n",
    "xlabel(L\"t\")\n",
    "ylabel(L\"\\theta(t)\");"
   ]
  },
  {
   "cell_type": "code",
   "execution_count": 33,
   "metadata": {},
   "outputs": [
    {
     "name": "stdout",
     "output_type": "stream",
     "text": [
      "slope = 1.9346473998582887"
     ]
    }
   ],
   "source": [
    "# Estimate the order of convergence\n",
    "N = 10000\n",
    "u_11 = ForwardEuler(1, T/N, u0, g, l)\n",
    "u_21 = Trapezoid(1, T/N, u_11, g, l)\n",
    "u_12 = ForwardEuler(1, T/(2N), u0, g, l)\n",
    "u_22 = Trapezoid(1, T/(2N), u_12, g, l)\n",
    "u_14 = ForwardEuler(1, T/(4N), u0, g, l)\n",
    "u_24 = Trapezoid(1, T/(4N), u_14, g, l)\n",
    "u1 = AB3(N, T, u0, u_11, u_21, g, l)\n",
    "u2 = AB3(2N, T, u0, u_12, u_22,  g, l)\n",
    "u4 = AB3(4N, T, u0, u_14, u_24, g, l)\n",
    "print(\"slope = \", log2(norm(u1 - u2) / norm(u2 - u4)))"
   ]
  },
  {
   "cell_type": "markdown",
   "metadata": {},
   "source": [
    "Even though AB3 is supposed to be of order 3, we see that using ForwardEuler for the first step significantly reduces the rate of convergence to below 2, which is worse than fixed point Trapezoidal rule."
   ]
  }
 ],
 "metadata": {
  "kernelspec": {
   "display_name": "Julia 1.6.2",
   "language": "julia",
   "name": "julia-1.6"
  },
  "language_info": {
   "file_extension": ".jl",
   "mimetype": "application/julia",
   "name": "julia",
   "version": "1.6.2"
  }
 },
 "nbformat": 4,
 "nbformat_minor": 4
}
