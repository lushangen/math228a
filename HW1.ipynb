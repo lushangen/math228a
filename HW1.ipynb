{
 "cells": [
  {
   "cell_type": "markdown",
   "metadata": {},
   "source": [
    "## Code submission\n",
    "\n",
    "If you would like to use Jupyter (perhaps the easiest way), just submit the notebook file to bCourses. Name it lastname_firstname_(Homework#).ipynb. For example, obama_barack_1.ipynb. This applies to the case if you **only** have a notebook file.\n",
    "\n",
    "If you use MATLAB or Julia/Python (not the notebook), **or** if you have multiple files, name your programs as p(Homework#)_(Problem#).m. For instance, for homework 1, problem 2, name it as p1_2.m (or p1_2.jl,p1_2.py). Then **zip everything** into a single file lastname_firstname_(Homework#).zip, and submit the zip file to bCourses. For example, obama_barack_1.zip.\n",
    "\n",
    "For proof-related problems, type your solution using **LaTeX (no other format is accepted)**. You do not need to write down every step of the derivation, but make sure the logic is clear and understandable.\n",
    "\n",
    "For implementation based problems, the problem description may not include all the information for the answer to be uniquely defined. For instance, your answer might depend on the choice of the mesh size. This is OK."
   ]
  },
  {
   "cell_type": "markdown",
   "metadata": {},
   "source": [
    "## Problem 1\n",
    "\n",
    "Consider $u'(t)=f(u(t)),u(0)=u_0$, and $f:\\mathbb{R}^{d}\\to \\mathbb{R}$ \n",
    "is Lipschitz continuous with a\n",
    "Lipschitz constant $L$. Let $\\max \\Vert u''(t)\\Vert$ be bounded by a constant $M$ for $0\\le t\\le T$. Prove that the backward Euler method converges as the step size $h\\to 0$."
   ]
  },
  {
   "cell_type": "markdown",
   "metadata": {},
   "source": [
    "Backward Euler is given by $u_{n+1} = u_{n}+hf(u_{n+1}, t_{n+1})$. \n",
    "\\\n",
    "Let $e_n = u(t_{n})-u_{n}$ where $u(t_n)$ is the true solution and $u_n$ is the numerical solution. \n",
    "\\\n",
    "We see that\n",
    "$$\\begin{equation} \\label{eq1}\n",
    "\\begin{split}\n",
    "e_{n+1} &= u(t_{n+1})-u_{n+1} \\\\\n",
    "&= u(t_{n})+hf(u(t_{n+1}),t_{n+1})-\\frac{1}{2}u''(\\xi)h^2-u_{n}+hf(u_{n+1},t_{n+1}) \\\\\n",
    "&= u(t_{n}) - u_{n} + h(f(u(t_{n+1}),t_{n+1}) - f(u_{n+1},t_{n+1})) + -\\frac{1}{2}u''(\\xi)h^2\\\\\n",
    "&= e_n + h(f(u(t_{n+1}),t_{n+1}) - f(u_{n+1},t_{n+1})) + \\tau_n\n",
    "\\end{split}\n",
    "\\end{equation}$$\n",
    "where $\\tau_n = u(t_{n+1}) - u(t_n) - hf(u(t_{n+1}), t_{n+1})$ is the local truncation error.\n",
    "\\\n",
    "Taking norm of both sides and using the triangle inequality and Lipschitz-ness of $f$, we have\n",
    "$$\\begin{equation} \\label{eq2}\n",
    "\\begin{split}\n",
    "|e_{n+1}| &= |e_n + h(f(u(t_{n+1}),t_{n+1}) - f(u_{n+1},t_{n+1})) + \\tau_n| \\\\\n",
    "&\\leq |e_n| + |h(f(u(t_{n+1}),t_{n+1}) - f(u_{n+1},t_{n+1}))| + |\\tau_n| \\\\\n",
    "&\\leq |e_n| + hL|u(t_{n+1}) - u_{n+1}| + |\\tau_n|\\\\\n",
    "&= |e_n| + hL|e_{n+1}| + |\\tau_n|\n",
    "\\end{split}\n",
    "\\end{equation}$$\n",
    "Let $\\tau_{max} = sup_{1\\leq n\\leq N} |\\tau_n|$. Then \n",
    "$$\\begin{equation} \\label{eq3}\n",
    "\\begin{split}\n",
    "|e_{n+1}| &\\leq |e_n| + hL|e_{n+1}| + |\\tau_n| \\\\\n",
    "|e_{n+1}| &\\leq |e_n| + hL|e_{n+1}| + \\tau_{max} \\\\\n",
    "|e_{n+1}| &\\leq \\frac{|e_n| + \\tau_{max}}{(1-hL)} \n",
    "\\end{split}\n",
    "\\end{equation}$$\n",
    "By induction on n, \n",
    "$$\\begin{equation} \\label{eq4}\n",
    "\\begin{split}\n",
    "|e_{n+1}| &\\leq \\frac{|e_n|}{(1-hL)} + \\frac{\\tau_{max}}{(1-hL)} \\\\\n",
    "|e_{n+1}| &\\leq \\frac{|e_{n-1}|}{(1-hL)^2} + \\tau_{max}(\\frac{1}{(1-hL)^2}+\\frac{1}{(1-hL)})\\\\\n",
    "|e_{n+1}| &\\leq \\frac{|e_{n-2}|}{(1-hL)^3} + \\tau_{max}(\\frac{1}{(1-hL)^3}+ \\frac{1}{(1-hL)^2}+\\frac{1}{(1-hL)})\\\\\n",
    "&{}\\ldots{} \\\\\n",
    "|e_{n+1}| &\\leq \\frac{|e_0|}{(1-hL)^{n+1}} + \\tau_{max}(\\frac{1}{(1-hL)^{n+1}}+ \\frac{1}{(1-hL)^n}+...+\\frac{1}{(1-hL)})\\\\\n",
    "&= \\frac{|e_0|}{(1-hL)^{n+1}} + \\tau_{max}\\frac{(1-hL)^{-(n+1)}-(1-hL)}{hL}\n",
    "\\end{split}\n",
    "\\end{equation}$$\n",
    "Let $N = n+1$, yielding $$|e_{N}| = \\frac{|e_0|}{(1-hL)^{N}} + \\tau_{max}\\frac{(1-hL)^{-N}-(1-hL)}{hL}$$\n",
    "Note that $$\\frac{1}{1-hL} = 1 + \\frac{hL}{1-hL} \\leq e^{\\frac{hL}{1-hL}},$$ and $$\\frac{(1-hL)^{-N}-(1-hL)}{hL} \\leq \\frac{(1-hL)^{-N}}{hL} = \\frac{(1+ \\frac{hL}{1-hL})^{N}}{hL} \\leq \\frac{1}{hL}e^{N\\frac{hL}{1-hL}}$$ since for $h \\rightarrow 0, 1-hL > 1.$\n",
    "Thus $$|e_{N}| \\leq |e_0|e^{N\\frac{hL}{1-hL}} + \\tau_{max}\\frac{1}{hL}e^{N\\frac{hL}{1-hL}}$$\n",
    "Since $hN = T$, we have $$|e_{N}| \\leq |e_0|e^{\\frac{LT}{1-hL}} + \\tau_{max}\\frac{1}{hL}e^{\\frac{LT}{1-hL}}$$\n",
    "We estimate $\\tau_{max}$ as follows: $$\\tau_n = u(t_{n+1})-u(t_n) + hu'(t_{n+1}) = \\int_{t_n}^{t_{n+1}} (t_n-s)u''(s)ds $$\n",
    "$$|\\tau_n| = |\\int_{t_n}^{t_{n+1}} (t_n-s)u''(s)ds| \\leq \\int_{t_n}^{t_{n+1}} |(t_n-s)||u''(s)|ds$$\n",
    "Since $\\max \\Vert u''(t)\\Vert \\leq M$ and $t_n < s < t_{n+1}$, $$|\\tau_n| \\leq M\\int_{t_n}^{t_{n+1}} (s-t_n)ds = \\int_{0}^{h} (s-t_n)ds = M\\frac{h^2}{2}$$\n",
    "Thus as $h\\rightarrow 0, |\\tau_n|\\rightarrow 0$.\n",
    "Finally, $$|e_{N}| \\leq |e_0|e^{N\\frac{hL}{1-hL}} + M\\frac{h^2}{2}\\frac{1}{hL}e^{N\\frac{hL}{1-hL}} = M\\frac{h}{2}\\frac{1}{L}e^{N\\frac{hL}{1-hL}}$$ since $u(0) = u_0 \\rightarrow e_0 = 0$. As $h\\rightarrow 0, \\frac{Mh}{2L} \\rightarrow 0, |e_{N}| \\rightarrow 0$. We have proved stability and consistency, thus backward Euler must be convergent."
   ]
  },
  {
   "cell_type": "markdown",
   "metadata": {},
   "source": [
    "## Problem 2\n",
    "\n",
    "Consider the initial value problem\n",
    "$$\n",
    "\\begin{split}\n",
    "u'_{1} &= u_{1},\\\\\n",
    "u'_{2} &= u_{1} - u_{2},\\\\\n",
    "\\end{split}\n",
    "$$\n",
    "with initial condition $(u_{1}(0),u_{2}(0))=(1,1)$. \n",
    "\n",
    "1. Find a way to solve the problem above analytically, and write down the answer of u(T=2.0).\n",
    "\n",
    "2. Solve the problem numerically using the trapezoidal rule. Verify that the solution agrees with the exact solution at time $T=2.0$. Use a number of step sizes $h=2^{-i},i=5,\\ldots,10.$ Plot the error $e=\\Vert u(1)-u^*(1)\\Vert_2$ v.s. step size $h$ in a loglog plot, and estimate the convergence rate for each scheme.\n",
    "\n",
    "**Note**: the routine for computing the error, plotting and computing the slope is provided. "
   ]
  },
  {
   "cell_type": "markdown",
   "metadata": {},
   "source": [
    "We have a linear homogeneous first order system. \n",
    "Thus our solution takes the form of $\\vec{u}(t) = \\vec{v}e^\\lambda,$ where $\\vec{v}$ is an eigenvector corresponding to the eigenvector $\\lambda$ of $A$. \\\n",
    "$A = \\begin{bmatrix} 1 & 0 \\\\ 1 & -1 \\end{bmatrix}$ has eigenvalues $\\lambda = 1, -1$ with eigenvectors $\\vec{v}_1 = \\begin{bmatrix} 2 \\\\ 1 \\end{bmatrix}$ and $\\vec{v}_2 = \\begin{bmatrix} 0 \\\\ 1 \\end{bmatrix}$ respectively.\n",
    "Thus we have $\\vec{u}(t) = c_1 \\begin{bmatrix} 2 \\\\ 1 \\end{bmatrix} e^t + c_2 \\begin{bmatrix} 0 \\\\ 1 \\end{bmatrix} e^{-t}$. \n",
    "\\\n",
    "Using the initial condition, we have $\\begin{bmatrix} 1 \\\\ 1 \\end{bmatrix} = c_1 \\begin{bmatrix} 2 \\\\ 1 \\end{bmatrix} + c_2 \\begin{bmatrix} 0 \\\\ 1 \\end{bmatrix} \\rightarrow c_1 = \\frac{1}{2}, c_2 = \\frac{1}{2}.$\n",
    "\\\n",
    "The solution is thus $\\vec{u}(t) = \\frac{1}{2} \\begin{bmatrix} 2 \\\\ 1 \\end{bmatrix} e^t + \\frac{1}{2} \\begin{bmatrix} 0 \\\\ 1 \\end{bmatrix} e^{-t}$.\n",
    "\\\n",
    "At $T = 2.0$, $\\frac{1}{2} \\begin{bmatrix} 2 \\\\ 1 \\end{bmatrix} e^2 + \\frac{1}{2} \\begin{bmatrix} 0 \\\\ 1 \\end{bmatrix} e^{-2} = [7.38905609893065, 3.7621956910836314].$"
   ]
  },
  {
   "cell_type": "code",
   "execution_count": 56,
   "metadata": {},
   "outputs": [
    {
     "data": {
      "image/png": "[encoded data removed]",
      "text/plain": [
       "Figure(PyObject <Figure size 400x400 with 1 Axes>)"
      ]
     },
     "metadata": {},
     "output_type": "display_data"
    },
    {
     "name": "stdout",
     "output_type": "stream",
     "text": [
      "Slope for Trapezoid = 2.0002635440177077\n",
      "[7.38905609893065, 3.7621956910836314]\n",
      "[7.389060796770166, 3.762197996981449]\n"
     ]
    }
   ],
   "source": [
    "using LinearAlgebra\n",
    "using PyPlot\n",
    "\n",
    "function Trapezoid(N,T,u0)\n",
    "    # Fill code here\n",
    "    h = T/N\n",
    "    A = [1 0; 1 -1]\n",
    "    u = copy(u0)\n",
    "    unew = copy(u0)\n",
    "    for i = 1:N\n",
    "        unew = inv(I-h/2*A)*(I+h/2*A)*u\n",
    "        u = unew\n",
    "    end\n",
    "    return u\n",
    "end\n",
    "\n",
    "u0 = [1.0,1.0]\n",
    "T = 2.0\n",
    "# You need to compute uexact at T=2.0\n",
    "uexact = .5*exp(2)*[2, 1] + .5*exp(-2)*[0, 1]\n",
    "\n",
    "# Plotting routine provided below\n",
    "NList = 2 .^(5:10)\n",
    "errTrapeList = zeros(size(NList))\n",
    "for i = 1 : length(NList)\n",
    "    N = NList[i]\n",
    "    utrape = Trapezoid(N,T,u0)\n",
    "    errTrapeList[i] = norm(utrape-uexact)\n",
    "end\n",
    "\n",
    "figure(1,figsize=(4,4))\n",
    "loglog(T./NList, errTrapeList, \"r-d\", label=\"Trapezoid\")\n",
    "xlabel(L\"h\")\n",
    "ylabel(L\"||u-u^*||_2\")\n",
    "legend()\n",
    "\n",
    "slopeTrape = -(log(errTrapeList[end])-log(errTrapeList[1])) / \n",
    "(log(NList[end]) - log(NList[1]))\n",
    "\n",
    "println(\"Slope for Trapezoid = \", slopeTrape)\n",
    "println(uexact)\n",
    "println(Trapezoid(NList[end],T,u0))"
   ]
  },
  {
   "cell_type": "markdown",
   "metadata": {},
   "source": [
    "## Problem 3\n",
    "\n",
    "Consider a simple pendulum of length $l$, forming an angle $\\theta(t)$ with the\n",
    "vertical axis. The equation of motion for the pendulum is given by\n",
    "\n",
    "$$\\theta''(t)+\\frac{g}{l} \\sin(\\theta(t))=0,$$\n",
    "\n",
    "where $g$ is the gravitational constant, with given initial conditions\n",
    "\n",
    "$$\\theta(0)=\\theta_0,\\quad \\theta'(0)=\\omega_0.$$\n",
    "\n",
    "1. Rewrite the equation as a system of first order equations in $u(t)=(\\theta(t),\\omega(t))$. Fill the `func` function below. \n",
    "\n",
    "2. Write a forward Euler method. Use a sufficiently small time step, and plot the solution of $\\theta(t)$ with $g=l=1$ and initial condition $(\\theta(0),\\omega(0))=(2.5,0.0)$ till $T=25$. Since no exact solution is available, measure the convergence rate by means of the solution at T=25 obtained from three time steps h, h/2, and h/4."
   ]
  },
  {
   "cell_type": "code",
   "execution_count": 57,
   "metadata": {},
   "outputs": [
    {
     "data": {
      "image/png": "[encoded data removed]",
      "text/plain": [
       "Figure(PyObject <Figure size 400x400 with 1 Axes>)"
      ]
     },
     "metadata": {},
     "output_type": "display_data"
    },
    {
     "data": {
      "text/plain": [
       "PyObject Text(26.0, 0.5, '$\\\\theta(t)$')"
      ]
     },
     "execution_count": 57,
     "metadata": {},
     "output_type": "execute_result"
    }
   ],
   "source": [
    "function func(u,g,l)\n",
    "    rv = copy(u)\n",
    "    rv[1] = u[2]\n",
    "    rv[2] = -g/l*sin(u[1])\n",
    "    return rv\n",
    "end\n",
    "\n",
    "function ForwardEulerFull(N,T,u0,g,l)\n",
    "    # Fill code here. \n",
    "    # The output should be the full history of the solution\n",
    "    # i.e. the output u should be of size 2×(N+1)\n",
    "    # This is of course memory intensive and is not the \n",
    "    # commonly used approach\n",
    "    u = zeros(2,N+1)\n",
    "    unew = copy(u0)\n",
    "    dt = T/N\n",
    "    for i = 1 : N+1\n",
    "        rv = func(unew, g, l)\n",
    "        unew[1] = unew[1] + dt * rv[1]\n",
    "        unew[2] = unew[2] + dt * rv[2]\n",
    "        u[1, i] = unew[1]\n",
    "        u[2, i] = unew[2]\n",
    "    end\n",
    "    return u\n",
    "end\n",
    "\n",
    "# This should plot out the solution\n",
    "g=1.0\n",
    "l=1.0\n",
    "T=25.0\n",
    "N=10000\n",
    "u0=[2.5,0.0]\n",
    "\n",
    "uEulerFull = ForwardEulerFull(N,T,u0,g,l)\n",
    "tList = collect(0:N)*(T/N)\n",
    "\n",
    "using PyPlot\n",
    "figure(1,figsize=(4,4))\n",
    "plot(tList,vec(uEulerFull[1,:]),\"b-\")\n",
    "xlabel(L\"t\")\n",
    "ylabel(L\"\\theta(t)\")"
   ]
  },
  {
   "cell_type": "code",
   "execution_count": 58,
   "metadata": {},
   "outputs": [
    {
     "name": "stdout",
     "output_type": "stream",
     "text": [
      "[-2.296053517935931, -0.5251181947915738]\n",
      "[-2.2961759297621875, -0.5248876531089912]\n"
     ]
    },
    {
     "data": {
      "image/png": "[encoded data removed]",
      "text/plain": [
       "Figure(PyObject <Figure size 400x400 with 1 Axes>)"
      ]
     },
     "metadata": {},
     "output_type": "display_data"
    },
    {
     "name": "stdout",
     "output_type": "stream",
     "text": [
      "[-2.2962371040661687, -0.5247723961732517]\n",
      "Slope for Euler = 1.0004496127705236\n"
     ]
    }
   ],
   "source": [
    "function ForwardEuler(N,T,u0,g,l)\n",
    "    # Fill code here. \n",
    "    # The output contains only the final solution u(T)\n",
    "    u = copy(u0)\n",
    "    unew = copy(u0)\n",
    "    dt = T/N\n",
    "    for i = 1 : N\n",
    "        rv = func(unew, g, l)\n",
    "        unew[1] = unew[1] + dt * rv[1]\n",
    "        unew[2] = unew[2] + dt * rv[2]\n",
    "        u = unew\n",
    "    end\n",
    "    return u\n",
    "end\n",
    "\n",
    "g=1.0\n",
    "l=1.0\n",
    "T=25.0\n",
    "u0=[2.5,0.0]\n",
    "\n",
    "# Estimate the order of convergence\n",
    "NList = 2 .^(5:8)\n",
    "diffEulerList = zeros(length(NList)-1)\n",
    "N = NList[1] * 100000\n",
    "ueuler_prv = ForwardEuler(N,T,u0,g,l)\n",
    "\n",
    "for i = 2 : length(NList)\n",
    "    N = NList[i] * 100000\n",
    "    ueuler = ForwardEuler(N,T,u0,g,l)\n",
    "    println(ueuler)\n",
    "    diffEulerList[i-1] = norm(ueuler-ueuler_prv)\n",
    "    ueuler_prv = copy(ueuler)\n",
    "end\n",
    "\n",
    "using PyPlot\n",
    "figure(1,figsize=(4,4))\n",
    "loglog(NList[1:end-1], diffEulerList, \"b-o\", label=\"Euler\")\n",
    "\n",
    "# String starting with letter \"L\" for latex\n",
    "xlabel(L\"N\")\n",
    "ylabel(L\"||u(2N)-u(N)||_2\")\n",
    "legend()\n",
    "\n",
    "slopeEuler = -(log(diffEulerList[end])-log(diffEulerList[1])) / \n",
    "(log(NList[end-1]) - log(NList[1]))\n",
    "\n",
    "println(\"Slope for Euler = \", slopeEuler)"
   ]
  },
  {
   "cell_type": "markdown",
   "metadata": {},
   "source": [
    "## Problem 4\n",
    "\n",
    "1. Repeat Problem 3.2 using the trapezoidal rule. Modify your implementation in Problem 2 if needed.\n",
    "\n",
    "2. Repeat Problem 3.2 using the Adams-Bashforth 3 (AB3) scheme. Obtain the first two steps using forward Euler and trapezoidal rule, respectively. Observe the difference in terms of the convergence rate.\n",
    "\n"
   ]
  },
  {
   "cell_type": "code",
   "execution_count": 59,
   "metadata": {},
   "outputs": [
    {
     "name": "stdout",
     "output_type": "stream",
     "text": [
      "[-2.2962982569377006, -0.5246571490189018]\n",
      "[-2.2962982572046733, -0.5246571486416058]\n"
     ]
    },
    {
     "data": {
      "image/png": "[encoded data removed]",
      "text/plain": [
       "Figure(PyObject <Figure size 400x400 with 1 Axes>)"
      ]
     },
     "metadata": {},
     "output_type": "display_data"
    },
    {
     "name": "stdout",
     "output_type": "stream",
     "text": [
      "[-2.2962982572725132, -0.5246571485454046]\n",
      "Slope for Trapezoid = 1.98890467899148\n"
     ]
    }
   ],
   "source": [
    "# Need to solve the nonlinear equation in trapezoidal rule.\n",
    "function Trapezoid(N,T,u0,g,l)\n",
    "    # Fill code here. \n",
    "    # The output contains only the final solution u(T)\n",
    "    h = T/N\n",
    "    u = copy(u0)\n",
    "    unew = copy(u0)\n",
    "    for i = 1:N\n",
    "        epsilon = 1\n",
    "        uk = func(unew,g,l)\n",
    "        for j = 1:10\n",
    "            uk1 = func(unew,g,l)\n",
    "            unew = u + h/2*(uk+uk1)\n",
    "        end\n",
    "        u = unew\n",
    "    end\n",
    "    return u\n",
    "end\n",
    "\n",
    "g=1.0\n",
    "l=1.0\n",
    "T=25.0\n",
    "u0=[2.5,0.0]\n",
    "\n",
    "# Estimate the order of convergence\n",
    "NList = 2 .^(5:8)\n",
    "diffTrapezoidList = zeros(length(NList)-1)\n",
    "N = NList[1]*10000\n",
    "utrapezoid_prv = Trapezoid(N,T,u0,g,l)\n",
    "\n",
    "for i = 2 : length(NList)\n",
    "    N = NList[i]*10000\n",
    "    utrapezoid = Trapezoid(N,T,u0,g,l)\n",
    "    println(utrapezoid)\n",
    "    diffTrapezoidList[i-1] = norm(utrapezoid-utrapezoid_prv)\n",
    "    utrapezoid_prv = copy(utrapezoid)\n",
    "end\n",
    "\n",
    "using PyPlot\n",
    "figure(1,figsize=(4,4))\n",
    "loglog(NList[1:end-1], diffTrapezoidList, \"b-o\", label=\"Trapezoid\")\n",
    "\n",
    "# String starting with letter \"L\" for latex\n",
    "xlabel(L\"N\")\n",
    "ylabel(L\"||u(2N)-u(N)||_2\")\n",
    "legend()\n",
    "\n",
    "slopeTrapezoid = -(log(diffTrapezoidList[end])-log(diffTrapezoidList[1])) / \n",
    "(log(NList[end-1]) - log(NList[1]))\n",
    "\n",
    "println(\"Slope for Trapezoid = \", slopeTrapezoid)"
   ]
  },
  {
   "cell_type": "code",
   "execution_count": 60,
   "metadata": {},
   "outputs": [
    {
     "name": "stdout",
     "output_type": "stream",
     "text": [
      "[-2.2962979785908115, -0.5246575967020904]\n",
      "[-2.296298187263521, -0.5246572612341887]\n"
     ]
    },
    {
     "data": {
      "image/png": "[encoded data removed]",
      "text/plain": [
       "Figure(PyObject <Figure size 400x400 with 1 Axes>)"
      ]
     },
     "metadata": {},
     "output_type": "display_data"
    },
    {
     "name": "stdout",
     "output_type": "stream",
     "text": [
      "[-2.2962982397420912, -0.5246571767789925]\n",
      "Slope for AB3 = 1.9854125468370336\n"
     ]
    }
   ],
   "source": [
    "# Need some method to compute u1,u2\n",
    "function AB3(N,T,u0,u1,u2,g,l)\n",
    "    # Fill code here. \n",
    "    # The output contains only the final solution u(T)\n",
    "    dt = T/N\n",
    "    u = copy(u0)\n",
    "    uk0 = copy(u0)\n",
    "    uk1 = copy(u1)\n",
    "    uk2 = copy(u2)\n",
    "    for i = 3:N\n",
    "        u = uk2 + dt/12*(23*func(uk2,g,l)-16*func(uk1,g,l)+5*func(uk0,g,l))\n",
    "        uk2, uk1, uk0 = u, uk2, uk1\n",
    "    end\n",
    "    return u\n",
    "end\n",
    "\n",
    "# Estimate the order of convergence\n",
    "g=1.0\n",
    "l=1.0\n",
    "T=25.0\n",
    "u0=[2.5,0.0]\n",
    "\n",
    "NList = 2 .^(5:8)\n",
    "diffAB3List = zeros(length(NList)-1)\n",
    "N = NList[1]*1000\n",
    "u1 = ForwardEuler(1,T/N,u0,g,l)\n",
    "u2 = Trapezoid(1,T/N,u1,g,l)\n",
    "uAB3_prv = AB3(N,T,u0,u1,u2,g,l)\n",
    "\n",
    "for i = 2 : length(NList)\n",
    "    N = NList[i]*1000\n",
    "    u1 = ForwardEuler(1,T/N,u0,g,l)\n",
    "    u2 = Trapezoid(1,T/N,u1,g,l)\n",
    "    uAB3 = AB3(N,T,u0,u1,u2,g,l)\n",
    "    println(uAB3)\n",
    "    diffAB3List[i-1] = norm(uAB3-uAB3_prv)\n",
    "    uAB3_prv = copy(uAB3)\n",
    "end\n",
    "\n",
    "using PyPlot\n",
    "figure(1,figsize=(4,4))\n",
    "loglog(NList[1:end-1], diffAB3List, \"b-o\", label=\"AB3\")\n",
    "\n",
    "# String starting with letter \"L\" for latex\n",
    "xlabel(L\"N\")\n",
    "ylabel(L\"||u(2N)-u(N)||_2\")\n",
    "legend()\n",
    "\n",
    "slopeAB3 = -(log(diffAB3List[end])-log(diffAB3List[1])) / \n",
    "(log(NList[end-1]) - log(NList[1]))\n",
    "\n",
    "println(\"Slope for AB3 = \", slopeAB3)"
   ]
  },
  {
   "cell_type": "markdown",
   "metadata": {},
   "source": [
    "Using Forward Euler for first step reduces the rate of convergence from 3 to ~2 for AB3, which is about the same as Trapezoidal method."
   ]
  }
 ],
 "metadata": {
  "kernelspec": {
   "display_name": "Julia 1.6.2",
   "language": "julia",
   "name": "julia-1.6"
  },
  "language_info": {
   "file_extension": ".jl",
   "mimetype": "application/julia",
   "name": "julia",
   "version": "1.6.2"
  }
 },
 "nbformat": 4,
 "nbformat_minor": 4
}
